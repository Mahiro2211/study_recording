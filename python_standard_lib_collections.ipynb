{
 "cells": [
  {
   "cell_type": "code",
   "execution_count": 2,
   "id": "12761731",
   "metadata": {},
   "outputs": [],
   "source": [
    "from collections import namedtuple"
   ]
  },
  {
   "cell_type": "code",
   "execution_count": 8,
   "id": "c1d4712e",
   "metadata": {},
   "outputs": [],
   "source": [
    "Point = namedtuple('Point', ['x', 'y']) # 创建了两个字段 x , y , 实例名为Point"
   ]
  },
  {
   "cell_type": "code",
   "execution_count": 11,
   "id": "a41e79ae",
   "metadata": {},
   "outputs": [],
   "source": [
    "a = Point(1 , 2)"
   ]
  },
  {
   "cell_type": "code",
   "execution_count": 14,
   "id": "f0443043",
   "metadata": {},
   "outputs": [
    {
     "data": {
      "text/plain": [
       "(Point(x=1, y=2), 1, 2)"
      ]
     },
     "execution_count": 14,
     "metadata": {},
     "output_type": "execute_result"
    }
   ],
   "source": [
    "a , a.x , a.y"
   ]
  },
  {
   "cell_type": "code",
   "execution_count": 16,
   "id": "d70b2f54",
   "metadata": {},
   "outputs": [
    {
     "data": {
      "text/plain": [
       "{'x': 1, 'y': 2}"
      ]
     },
     "execution_count": 16,
     "metadata": {},
     "output_type": "execute_result"
    }
   ],
   "source": [
    "a._asdict() # 转化为字典"
   ]
  },
  {
   "cell_type": "code",
   "execution_count": 17,
   "id": "146c6c70",
   "metadata": {},
   "outputs": [],
   "source": [
    "CandidateInfoTuple = namedtuple('CandidateInfoTuple' , 'x , d , s , a') # 也可以使用''代替[]"
   ]
  },
  {
   "cell_type": "code",
   "execution_count": 19,
   "id": "345e3c06",
   "metadata": {},
   "outputs": [],
   "source": [
    "b = CandidateInfoTuple(2 , 3 , 1 , 4)"
   ]
  },
  {
   "cell_type": "code",
   "execution_count": 20,
   "id": "7dfadb4e",
   "metadata": {},
   "outputs": [
    {
     "data": {
      "text/plain": [
       "CandidateInfoTuple(x=2, d=3, s=1, a=4)"
      ]
     },
     "execution_count": 20,
     "metadata": {},
     "output_type": "execute_result"
    }
   ],
   "source": [
    "b"
   ]
  },
  {
   "cell_type": "markdown",
   "id": "4820bf2c",
   "metadata": {},
   "source": [
    "* @functools.lru_cache装饰器所实现的缓存机制，与动态规划中的记忆化技术非常相似，它们的本质都是将重复计算的结果缓存起来，避免重复计算，提高算法的性能"
   ]
  },
  {
   "cell_type": "code",
   "execution_count": null,
   "id": "c47d3e13",
   "metadata": {},
   "outputs": [],
   "source": []
  }
 ],
 "metadata": {
  "kernelspec": {
   "display_name": "My_env",
   "language": "python",
   "name": "my_env"
  },
  "language_info": {
   "codemirror_mode": {
    "name": "ipython",
    "version": 3
   },
   "file_extension": ".py",
   "mimetype": "text/x-python",
   "name": "python",
   "nbconvert_exporter": "python",
   "pygments_lexer": "ipython3",
   "version": "3.10.10"
  }
 },
 "nbformat": 4,
 "nbformat_minor": 5
}
