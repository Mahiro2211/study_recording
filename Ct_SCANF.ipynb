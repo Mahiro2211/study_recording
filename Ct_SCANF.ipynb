{
 "cells": [
  {
   "cell_type": "markdown",
   "id": "f630662e",
   "metadata": {},
   "source": [
    "### CT扫描所使用的数据类型 ———— 三维的灰度堆叠图像（灰度，高，宽）\n",
    "每个ct扫描的体素都有一个数值，对应内部物质的密度"
   ]
  },
  {
   "cell_type": "code",
   "execution_count": null,
   "id": "567245d0",
   "metadata": {},
   "outputs": [],
   "source": []
  }
 ],
 "metadata": {
  "kernelspec": {
   "display_name": "My_env",
   "language": "python",
   "name": "my_env"
  },
  "language_info": {
   "codemirror_mode": {
    "name": "ipython",
    "version": 3
   },
   "file_extension": ".py",
   "mimetype": "text/x-python",
   "name": "python",
   "nbconvert_exporter": "python",
   "pygments_lexer": "ipython3",
   "version": "3.10.10"
  }
 },
 "nbformat": 4,
 "nbformat_minor": 5
}
