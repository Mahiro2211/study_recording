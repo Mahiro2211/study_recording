{
 "cells": [
  {
   "cell_type": "markdown",
   "id": "3d0a9d38",
   "metadata": {},
   "source": [
    "其经卷积之后的矩阵尺寸大小\n",
    "$N = （W - F + 2P）/S + 1$\n",
    "\n",
    "$W * W$\n",
    "\n",
    "$filter$\n",
    "\n",
    "$Stride$\n",
    "\n",
    "$padding$\n",
    "* 池化不会影响深度只会影响高度和宽度\n",
    "* tensor的通道 $[batch , channel , height , weight]$"
   ]
  },
  {
   "cell_type": "code",
   "execution_count": 65,
   "id": "83e044ef",
   "metadata": {},
   "outputs": [],
   "source": [
    "import torch.nn as nn\n",
    "import torch.nn.functional as F\n",
    "import pdb\n",
    "import os\n",
    "from PIL import Image"
   ]
  },
  {
   "cell_type": "code",
   "execution_count": 2,
   "id": "5dbf401e",
   "metadata": {},
   "outputs": [],
   "source": [
    "class LeNet(nn.Module):\n",
    "    def __init__(self):\n",
    "        super(LeNet , self).__init__()\n",
    "        self.conv1 = nn.Conv2d(3 , 16 , 5)\n",
    "        #pdb.set_trace() # 设置断点\n",
    "        self.pool1 = nn.MaxPool2d(2 , 2)\n",
    "        self.conv2 = nn.Conv2d(16 , 32 , 5)\n",
    "        self.pool2 = nn.MaxPool2d(2 , 2)\n",
    "        self.fc1 = nn.Linear(32 * 5 * 5 , 120)\n",
    "        self.fc2 = nn.Linear(120 , 84)\n",
    "        self.fc3 = nn.Linear(84 , 10)\n",
    "    def forward(self , x):\n",
    "        x = F.relu(self.conv1(x))\n",
    "        x = self.pool1(x)\n",
    "        x = F.relu(self.conv2(x))\n",
    "        x = self.pool2(x)\n",
    "        x = x.view( -1 , 32 * 5 * 5 )\n",
    "        x = F.relu(self.fc1(x))\n",
    "        x = F.relu(self.fc2(x))\n",
    "        x = self.fc3(x)\n",
    "        return x"
   ]
  },
  {
   "cell_type": "code",
   "execution_count": 3,
   "id": "156a21de",
   "metadata": {},
   "outputs": [],
   "source": [
    "import torch"
   ]
  },
  {
   "cell_type": "code",
   "execution_count": 4,
   "id": "cd242354",
   "metadata": {},
   "outputs": [
    {
     "name": "stdout",
     "output_type": "stream",
     "text": [
      "LeNet(\n",
      "  (conv1): Conv2d(3, 16, kernel_size=(5, 5), stride=(1, 1))\n",
      "  (pool1): MaxPool2d(kernel_size=2, stride=2, padding=0, dilation=1, ceil_mode=False)\n",
      "  (conv2): Conv2d(16, 32, kernel_size=(5, 5), stride=(1, 1))\n",
      "  (pool2): MaxPool2d(kernel_size=2, stride=2, padding=0, dilation=1, ceil_mode=False)\n",
      "  (fc1): Linear(in_features=800, out_features=120, bias=True)\n",
      "  (fc2): Linear(in_features=120, out_features=84, bias=True)\n",
      "  (fc3): Linear(in_features=84, out_features=10, bias=True)\n",
      ")\n"
     ]
    }
   ],
   "source": [
    "input1 = torch.rand([32 , 3 , 32 , 32])\n",
    "model = LeNet()\n",
    "print(model)\n",
    "output = model(input1)"
   ]
  },
  {
   "cell_type": "code",
   "execution_count": 7,
   "id": "7a8b93d5",
   "metadata": {},
   "outputs": [],
   "source": [
    "import torch.optim as optim\n",
    "import torchvision.transforms as  transforms\n",
    "import matplotlib.pyplot as plt\n",
    "import numpy as np\n",
    "import torchvision"
   ]
  },
  {
   "cell_type": "code",
   "execution_count": 113,
   "id": "7c181c94",
   "metadata": {},
   "outputs": [],
   "source": [
    "transform = transforms.Compose(\n",
    "[\n",
    "    transforms.Resize((32 , 32)),\n",
    "    transforms.ToTensor(),\n",
    "    transforms.Normalize((0.5, 0.5 ,0.5) , (0.5 ,0.5 , 0.5))\n",
    "])"
   ]
  },
  {
   "cell_type": "raw",
   "id": "3e24fbf2",
   "metadata": {},
   "source": [
    "    train_set = torchvision"
   ]
  },
  {
   "cell_type": "code",
   "execution_count": 114,
   "id": "e0c374c9",
   "metadata": {},
   "outputs": [],
   "source": [
    "train_set = torchvision.datasets.CIFAR10(root='./data', train=True,\n",
    "                                             download=False, transform=transform)\n",
    "train_loader = torch.utils.data.DataLoader(train_set, batch_size=36,\n",
    "                                               shuffle=True, num_workers=4)"
   ]
  },
  {
   "cell_type": "code",
   "execution_count": 115,
   "id": "b392a9d9",
   "metadata": {},
   "outputs": [],
   "source": [
    "val_set = torchvision.datasets.CIFAR10(root='./data', train=False,\n",
    "                                           download=False, transform=transform)\n",
    "val_loader = torch.utils.data.DataLoader(val_set, batch_size=5000,\n",
    "                                             shuffle=False, num_workers=4)\n",
    "val_data_iter = iter(val_loader)\n",
    "val_image, val_label = next(val_data_iter)"
   ]
  },
  {
   "cell_type": "code",
   "execution_count": 116,
   "id": "cde99d3b",
   "metadata": {},
   "outputs": [],
   "source": [
    "classes = ('plane', 'car', 'bird', 'cat',\n",
    "               'deer', 'dog', 'frog', 'horse', 'ship', 'truck')\n",
    "def imshow(img):\n",
    "    img = img / 2 + 0.5     # 反标准化\n",
    "    npimg = img.numpy()\n",
    "    plt.imshow(np.transpose(npimg, (1, 2, 0)))\n",
    "    plt.show()\n"
   ]
  },
  {
   "cell_type": "code",
   "execution_count": 117,
   "id": "315af993",
   "metadata": {},
   "outputs": [],
   "source": [
    "net = LeNet()\n",
    "loss_function = nn.CrossEntropyLoss()\n",
    "optimizer = optim.Adam(net.parameters() , lr = 1e-3)"
   ]
  },
  {
   "cell_type": "code",
   "execution_count": 118,
   "id": "8fe5ee92",
   "metadata": {},
   "outputs": [
    {
     "name": "stdout",
     "output_type": "stream",
     "text": [
      "[1,   500] train_loss: 1.749  test_accuracy: 0.454\n",
      "[1,  1000] train_loss: 1.462  test_accuracy: 0.509\n",
      "[2,   500] train_loss: 1.229  test_accuracy: 0.554\n",
      "[2,  1000] train_loss: 1.172  test_accuracy: 0.600\n",
      "[3,   500] train_loss: 1.052  test_accuracy: 0.629\n",
      "[3,  1000] train_loss: 1.014  test_accuracy: 0.620\n",
      "[4,   500] train_loss: 0.930  test_accuracy: 0.654\n",
      "[4,  1000] train_loss: 0.944  test_accuracy: 0.666\n",
      "[5,   500] train_loss: 0.848  test_accuracy: 0.663\n",
      "[5,  1000] train_loss: 0.852  test_accuracy: 0.672\n"
     ]
    }
   ],
   "source": [
    " for epoch in range(5):  # loop over the dataset multiple times\n",
    "\n",
    "        running_loss = 0.0\n",
    "        for step, data in enumerate(train_loader, start=0):\n",
    "            # get the inputs; data is a list of [inputs, labels]\n",
    "            inputs, labels = data\n",
    "\n",
    "            # zero the parameter gradients\n",
    "            optimizer.zero_grad()\n",
    "            # forward + backward + optimize\n",
    "            outputs = net(inputs)\n",
    "            loss = loss_function(outputs, labels)\n",
    "            loss.backward()\n",
    "            optimizer.step()\n",
    "\n",
    "            # print statistics\n",
    "            running_loss += loss.item()\n",
    "            if step % 500 == 499:    # print every 500 mini-batches\n",
    "                with torch.no_grad():\n",
    "                    outputs = net(val_image)  # [batch, 10]\n",
    "                    predict_y = torch.max(outputs, dim=1)[1] # index\n",
    "                    accuracy = torch.eq(predict_y, val_label).sum().item() / val_label.size(0)\n",
    "\n",
    "                    print('[%d, %5d] train_loss: %.3f  test_accuracy: %.3f' %\n",
    "                          (epoch + 1, step + 1, running_loss / 500, accuracy))\n",
    "                    running_loss = 0.0"
   ]
  },
  {
   "cell_type": "code",
   "execution_count": 119,
   "id": "6e245889",
   "metadata": {},
   "outputs": [],
   "source": [
    "save_path = \"./Lenet.pth\"\n",
    "torch.save(net.state_dict() , save_path)"
   ]
  },
  {
   "cell_type": "code",
   "execution_count": 120,
   "id": "996c7722",
   "metadata": {},
   "outputs": [],
   "source": [
    "im = Image.open('1.jpeg')"
   ]
  },
  {
   "cell_type": "code",
   "execution_count": 121,
   "id": "8636eb08",
   "metadata": {},
   "outputs": [],
   "source": [
    "im = transform(im)"
   ]
  },
  {
   "cell_type": "code",
   "execution_count": 122,
   "id": "24e25d54",
   "metadata": {},
   "outputs": [
    {
     "data": {
      "text/plain": [
       "torch.Tensor"
      ]
     },
     "execution_count": 122,
     "metadata": {},
     "output_type": "execute_result"
    }
   ],
   "source": [
    "type(im)"
   ]
  },
  {
   "cell_type": "code",
   "execution_count": 123,
   "id": "d4978349",
   "metadata": {},
   "outputs": [
    {
     "data": {
      "text/plain": [
       "torch.Size([1, 3, 32, 32])"
      ]
     },
     "execution_count": 123,
     "metadata": {},
     "output_type": "execute_result"
    }
   ],
   "source": [
    "im = torch.unsqueeze(im , dim = 0)\n",
    "im.size()"
   ]
  },
  {
   "cell_type": "code",
   "execution_count": 125,
   "id": "713729d1",
   "metadata": {},
   "outputs": [
    {
     "name": "stdout",
     "output_type": "stream",
     "text": [
      "tensor([[0.0940, 0.0948, 0.0953, 0.1061, 0.0947, 0.0912, 0.1059, 0.1047, 0.1059,\n",
      "         0.1075]])\n"
     ]
    }
   ],
   "source": [
    "with torch.no_grad():\n",
    "    outputs = model(im)\n",
    "    predict = torch.softmax(outputs , dim=1)\n",
    "print(predict)"
   ]
  },
  {
   "cell_type": "code",
   "execution_count": null,
   "id": "548da89c",
   "metadata": {},
   "outputs": [],
   "source": []
  }
 ],
 "metadata": {
  "kernelspec": {
   "display_name": "My_env",
   "language": "python",
   "name": "my_env"
  },
  "language_info": {
   "codemirror_mode": {
    "name": "ipython",
    "version": 3
   },
   "file_extension": ".py",
   "mimetype": "text/x-python",
   "name": "python",
   "nbconvert_exporter": "python",
   "pygments_lexer": "ipython3",
   "version": "3.10.10"
  }
 },
 "nbformat": 4,
 "nbformat_minor": 5
}
