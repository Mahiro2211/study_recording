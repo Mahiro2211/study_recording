{
 "cells": [
  {
   "cell_type": "code",
   "execution_count": 1,
   "id": "2dd72070",
   "metadata": {},
   "outputs": [],
   "source": [
    "import torch.nn as nn\n",
    "import torchvision.models as models"
   ]
  },
  {
   "cell_type": "code",
   "execution_count": 2,
   "id": "f5ac2e52",
   "metadata": {},
   "outputs": [
    {
     "name": "stderr",
     "output_type": "stream",
     "text": [
      "/home/douhuanmin/anaconda3/envs/env/lib/python3.10/site-packages/torchvision/models/_utils.py:208: UserWarning: The parameter 'pretrained' is deprecated since 0.13 and may be removed in the future, please use 'weights' instead.\n",
      "  warnings.warn(\n",
      "/home/douhuanmin/anaconda3/envs/env/lib/python3.10/site-packages/torchvision/models/_utils.py:223: UserWarning: Arguments other than a weight enum or `None` for 'weights' are deprecated since 0.13 and may be removed in the future. The current behavior is equivalent to passing `weights=AlexNet_Weights.IMAGENET1K_V1`. You can also use `weights=AlexNet_Weights.DEFAULT` to get the most up-to-date weights.\n",
      "  warnings.warn(msg)\n"
     ]
    }
   ],
   "source": [
    "model = models.alexnet(pretrained=True)"
   ]
  },
  {
   "cell_type": "code",
   "execution_count": 3,
   "id": "7fdf6728",
   "metadata": {},
   "outputs": [
    {
     "data": {
      "text/plain": [
       "(torch.nn.modules.container.Sequential, generator)"
      ]
     },
     "execution_count": 3,
     "metadata": {},
     "output_type": "execute_result"
    }
   ],
   "source": [
    "f = model.features ; c = model.features.children()\n",
    "type(f) , type(c)"
   ]
  },
  {
   "cell_type": "code",
   "execution_count": 4,
   "id": "1d13d05c",
   "metadata": {},
   "outputs": [
    {
     "name": "stdout",
     "output_type": "stream",
     "text": [
      "Conv2d(3, 64, kernel_size=(11, 11), stride=(4, 4), padding=(2, 2)) ReLU(inplace=True) MaxPool2d(kernel_size=3, stride=2, padding=0, dilation=1, ceil_mode=False) Conv2d(64, 192, kernel_size=(5, 5), stride=(1, 1), padding=(2, 2)) ReLU(inplace=True) MaxPool2d(kernel_size=3, stride=2, padding=0, dilation=1, ceil_mode=False) Conv2d(192, 384, kernel_size=(3, 3), stride=(1, 1), padding=(1, 1)) ReLU(inplace=True) Conv2d(384, 256, kernel_size=(3, 3), stride=(1, 1), padding=(1, 1)) ReLU(inplace=True) Conv2d(256, 256, kernel_size=(3, 3), stride=(1, 1), padding=(1, 1)) ReLU(inplace=True) MaxPool2d(kernel_size=3, stride=2, padding=0, dilation=1, ceil_mode=False)\n"
     ]
    }
   ],
   "source": [
    "print(*list(c))"
   ]
  },
  {
   "cell_type": "code",
   "execution_count": 5,
   "id": "5cbf2a8e",
   "metadata": {},
   "outputs": [
    {
     "name": "stderr",
     "output_type": "stream",
     "text": [
      "/home/douhuanmin/anaconda3/envs/env/lib/python3.10/site-packages/torchvision/models/_utils.py:223: UserWarning: Arguments other than a weight enum or `None` for 'weights' are deprecated since 0.13 and may be removed in the future. The current behavior is equivalent to passing `weights=ResNet18_Weights.IMAGENET1K_V1`. You can also use `weights=ResNet18_Weights.DEFAULT` to get the most up-to-date weights.\n",
      "  warnings.warn(msg)\n"
     ]
    }
   ],
   "source": [
    "m = models.resnet18(pretrained=True)"
   ]
  },
  {
   "cell_type": "code",
   "execution_count": 6,
   "id": "3c40b927",
   "metadata": {},
   "outputs": [
    {
     "name": "stdout",
     "output_type": "stream",
     "text": [
      "Linear(in_features=512, out_features=1000, bias=True)\n"
     ]
    }
   ],
   "source": [
    "print(m.fc) # 输出层"
   ]
  },
  {
   "cell_type": "code",
   "execution_count": 7,
   "id": "47c66dcc",
   "metadata": {},
   "outputs": [
    {
     "name": "stdout",
     "output_type": "stream",
     "text": [
      "Parameter containing:\n",
      "tensor([[-0.0185, -0.0705, -0.0518,  ..., -0.0390,  0.1735, -0.0410],\n",
      "        [-0.0818, -0.0944,  0.0174,  ...,  0.2028, -0.0248,  0.0372],\n",
      "        [-0.0332, -0.0566, -0.0242,  ..., -0.0344, -0.0227,  0.0197],\n",
      "        ...,\n",
      "        [-0.0103,  0.0033, -0.0359,  ..., -0.0279, -0.0115,  0.0128],\n",
      "        [-0.0359, -0.0353, -0.0296,  ..., -0.0330, -0.0110, -0.0513],\n",
      "        [ 0.0021, -0.0248, -0.0829,  ...,  0.0417, -0.0500,  0.0663]],\n",
      "       requires_grad=True)\n",
      "Parameter containing:\n",
      "tensor([[-0.0331, -0.0291, -0.0219,  ...,  0.0439,  0.0056, -0.0628],\n",
      "        [-0.0576, -0.0557, -0.0111,  ...,  0.0628,  0.0486,  0.0554],\n",
      "        [-0.0104, -0.0372, -0.0600,  ..., -0.0445, -0.0077, -0.0408],\n",
      "        ...,\n",
      "        [-0.0570, -0.0442,  0.0071,  ..., -0.0297,  0.0502, -0.0105],\n",
      "        [-0.0180,  0.0387, -0.0235,  ..., -0.0575, -0.0284, -0.0032],\n",
      "        [ 0.0233,  0.0172,  0.0545,  ...,  0.0280,  0.0288,  0.0098]],\n",
      "       requires_grad=True)\n"
     ]
    }
   ],
   "source": [
    "print(m.fc.weight)\n",
    "nn.init.xavier_uniform_(m.fc.weight)\n",
    "print(m.fc.weight)"
   ]
  },
  {
   "cell_type": "code",
   "execution_count": 11,
   "id": "070a6c9d",
   "metadata": {},
   "outputs": [],
   "source": [
    "from d2l import torch as d2l\n",
    "import torch\n",
    "import torchvision"
   ]
  },
  {
   "cell_type": "code",
   "execution_count": null,
   "id": "5ea43860",
   "metadata": {},
   "outputs": [],
   "source": [
    "d2l.DATA_HUB['hotdog'] = (d2l.DATA_URL + 'hotdog.zip')"
   ]
  },
  {
   "cell_type": "code",
   "execution_count": 1,
   "id": "5a3e3a2a",
   "metadata": {},
   "outputs": [
    {
     "ename": "SyntaxError",
     "evalue": "invalid syntax (2645831151.py, line 4)",
     "output_type": "error",
     "traceback": [
      "\u001b[0;36m  Cell \u001b[0;32mIn[1], line 4\u001b[0;36m\u001b[0m\n\u001b[0;31m    os.))\u001b[0m\n\u001b[0m       ^\u001b[0m\n\u001b[0;31mSyntaxError\u001b[0m\u001b[0;31m:\u001b[0m invalid syntax\n"
     ]
    }
   ],
   "source": []
  },
  {
   "cell_type": "code",
   "execution_count": null,
   "id": "362aed6c",
   "metadata": {},
   "outputs": [],
   "source": []
  }
 ],
 "metadata": {
  "kernelspec": {
   "display_name": "Python 3 (ipykernel)",
   "language": "python",
   "name": "python3"
  },
  "language_info": {
   "codemirror_mode": {
    "name": "ipython",
    "version": 3
   },
   "file_extension": ".py",
   "mimetype": "text/x-python",
   "name": "python",
   "nbconvert_exporter": "python",
   "pygments_lexer": "ipython3",
   "version": "3.10.9"
  }
 },
 "nbformat": 4,
 "nbformat_minor": 5
}
